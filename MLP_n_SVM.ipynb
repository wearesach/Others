{
  "nbformat": 4,
  "nbformat_minor": 0,
  "metadata": {
    "colab": {
      "name": "MLP  n  SVM.ipynb",
      "provenance": [],
      "collapsed_sections": [],
      "include_colab_link": true
    },
    "kernelspec": {
      "display_name": "Python 3",
      "name": "python3"
    }
  },
  "cells": [
    {
      "cell_type": "markdown",
      "metadata": {
        "id": "view-in-github",
        "colab_type": "text"
      },
      "source": [
        "<a href=\"https://colab.research.google.com/github/wearesach/Others/blob/main/MLP_n_SVM.ipynb\" target=\"_parent\"><img src=\"https://colab.research.google.com/assets/colab-badge.svg\" alt=\"Open In Colab\"/></a>"
      ]
    },
    {
      "cell_type": "markdown",
      "metadata": {
        "id": "OujVi-CzSDlp"
      },
      "source": [
        "#DONT EDIT"
      ]
    },
    {
      "cell_type": "markdown",
      "metadata": {
        "id": "xTkld9ZrLdf0"
      },
      "source": [
        "##MLP"
      ]
    },
    {
      "cell_type": "code",
      "metadata": {
        "id": "RpsxvucnWYNX"
      },
      "source": [
        "import pandas as pd\n",
        "import numpy as np\n"
      ],
      "execution_count": null,
      "outputs": []
    },
    {
      "cell_type": "code",
      "metadata": {
        "id": "O8Ung72ManWo",
        "colab": {
          "base_uri": "https://localhost:8080/",
          "height": 203
        },
        "outputId": "07c6145e-e20f-48e2-bbf4-0011f6463967"
      },
      "source": [
        "data = pd.read_excel('/content/Features.xls')\n",
        "data"
      ],
      "execution_count": null,
      "outputs": [
        {
          "output_type": "execute_result",
          "data": {
            "text/html": [
              "<div>\n",
              "<style scoped>\n",
              "    .dataframe tbody tr th:only-of-type {\n",
              "        vertical-align: middle;\n",
              "    }\n",
              "\n",
              "    .dataframe tbody tr th {\n",
              "        vertical-align: top;\n",
              "    }\n",
              "\n",
              "    .dataframe thead th {\n",
              "        text-align: right;\n",
              "    }\n",
              "</style>\n",
              "<table border=\"1\" class=\"dataframe\">\n",
              "  <thead>\n",
              "    <tr style=\"text-align: right;\">\n",
              "      <th></th>\n",
              "      <th>0.386365</th>\n",
              "      <th>0.506947</th>\n",
              "      <th>1.037994</th>\n",
              "      <th>0.477057</th>\n",
              "      <th>0.143030</th>\n",
              "      <th>0.151433</th>\n",
              "      <th>0.198694</th>\n",
              "      <th>0.406834</th>\n",
              "      <th>0.186979</th>\n",
              "      <th>0.056060</th>\n",
              "      <th>0.488391</th>\n",
              "      <th>1.062654</th>\n",
              "      <th>0.000000</th>\n",
              "    </tr>\n",
              "  </thead>\n",
              "  <tbody>\n",
              "    <tr>\n",
              "      <th>0</th>\n",
              "      <td>1.119869</td>\n",
              "      <td>0.661191</td>\n",
              "      <td>1.229951</td>\n",
              "      <td>0.638143</td>\n",
              "      <td>0.184976</td>\n",
              "      <td>0.292079</td>\n",
              "      <td>0.172449</td>\n",
              "      <td>0.320790</td>\n",
              "      <td>0.166437</td>\n",
              "      <td>0.048245</td>\n",
              "      <td>0.537575</td>\n",
              "      <td>1.036118</td>\n",
              "      <td>0</td>\n",
              "    </tr>\n",
              "    <tr>\n",
              "      <th>1</th>\n",
              "      <td>0.331309</td>\n",
              "      <td>0.403970</td>\n",
              "      <td>0.804980</td>\n",
              "      <td>0.457886</td>\n",
              "      <td>0.118490</td>\n",
              "      <td>0.156526</td>\n",
              "      <td>0.190855</td>\n",
              "      <td>0.380311</td>\n",
              "      <td>0.216327</td>\n",
              "      <td>0.055981</td>\n",
              "      <td>0.501839</td>\n",
              "      <td>0.882251</td>\n",
              "      <td>0</td>\n",
              "    </tr>\n",
              "    <tr>\n",
              "      <th>2</th>\n",
              "      <td>0.695721</td>\n",
              "      <td>0.356682</td>\n",
              "      <td>0.589830</td>\n",
              "      <td>0.370621</td>\n",
              "      <td>0.093518</td>\n",
              "      <td>0.330293</td>\n",
              "      <td>0.169335</td>\n",
              "      <td>0.280022</td>\n",
              "      <td>0.175952</td>\n",
              "      <td>0.044398</td>\n",
              "      <td>0.604720</td>\n",
              "      <td>0.962391</td>\n",
              "      <td>0</td>\n",
              "    </tr>\n",
              "    <tr>\n",
              "      <th>3</th>\n",
              "      <td>0.770948</td>\n",
              "      <td>0.481618</td>\n",
              "      <td>0.811748</td>\n",
              "      <td>0.455343</td>\n",
              "      <td>0.123653</td>\n",
              "      <td>0.291660</td>\n",
              "      <td>0.182203</td>\n",
              "      <td>0.307095</td>\n",
              "      <td>0.172262</td>\n",
              "      <td>0.046780</td>\n",
              "      <td>0.593309</td>\n",
              "      <td>1.057703</td>\n",
              "      <td>0</td>\n",
              "    </tr>\n",
              "    <tr>\n",
              "      <th>4</th>\n",
              "      <td>0.460745</td>\n",
              "      <td>0.454580</td>\n",
              "      <td>0.780062</td>\n",
              "      <td>0.468657</td>\n",
              "      <td>0.124192</td>\n",
              "      <td>0.201354</td>\n",
              "      <td>0.198659</td>\n",
              "      <td>0.340901</td>\n",
              "      <td>0.204812</td>\n",
              "      <td>0.054274</td>\n",
              "      <td>0.582748</td>\n",
              "      <td>0.969962</td>\n",
              "      <td>0</td>\n",
              "    </tr>\n",
              "  </tbody>\n",
              "</table>\n",
              "</div>"
            ],
            "text/plain": [
              "   0.386365  0.506947  1.037994  ...  0.488391  1.062654  0.000000\n",
              "0  1.119869  0.661191  1.229951  ...  0.537575  1.036118         0\n",
              "1  0.331309  0.403970  0.804980  ...  0.501839  0.882251         0\n",
              "2  0.695721  0.356682  0.589830  ...  0.604720  0.962391         0\n",
              "3  0.770948  0.481618  0.811748  ...  0.593309  1.057703         0\n",
              "4  0.460745  0.454580  0.780062  ...  0.582748  0.969962         0\n",
              "\n",
              "[5 rows x 13 columns]"
            ]
          },
          "metadata": {},
          "execution_count": 16
        }
      ]
    },
    {
      "cell_type": "code",
      "metadata": {
        "id": "PlowQ9sfwJAH"
      },
      "source": [
        "data.set_axis(['C0', 'C1', 'C2', 'C3', 'C4','C01', 'C11', 'C21', 'C31', 'C41','c02','c12','class'], axis=1,inplace=True)"
      ],
      "execution_count": null,
      "outputs": []
    },
    {
      "cell_type": "code",
      "metadata": {
        "colab": {
          "base_uri": "https://localhost:8080/",
          "height": 417
        },
        "id": "HB0NBT1rw2uy",
        "outputId": "8e64f0e2-c486-4e5f-d58c-3eecee48303a"
      },
      "source": [
        "data"
      ],
      "execution_count": null,
      "outputs": [
        {
          "output_type": "execute_result",
          "data": {
            "text/html": [
              "<div>\n",
              "<style scoped>\n",
              "    .dataframe tbody tr th:only-of-type {\n",
              "        vertical-align: middle;\n",
              "    }\n",
              "\n",
              "    .dataframe tbody tr th {\n",
              "        vertical-align: top;\n",
              "    }\n",
              "\n",
              "    .dataframe thead th {\n",
              "        text-align: right;\n",
              "    }\n",
              "</style>\n",
              "<table border=\"1\" class=\"dataframe\">\n",
              "  <thead>\n",
              "    <tr style=\"text-align: right;\">\n",
              "      <th></th>\n",
              "      <th>C0</th>\n",
              "      <th>C1</th>\n",
              "      <th>C2</th>\n",
              "      <th>C3</th>\n",
              "      <th>C4</th>\n",
              "      <th>C01</th>\n",
              "      <th>C11</th>\n",
              "      <th>C21</th>\n",
              "      <th>C31</th>\n",
              "      <th>C41</th>\n",
              "      <th>c02</th>\n",
              "      <th>c12</th>\n",
              "      <th>class</th>\n",
              "    </tr>\n",
              "  </thead>\n",
              "  <tbody>\n",
              "    <tr>\n",
              "      <th>0</th>\n",
              "      <td>1.119869</td>\n",
              "      <td>0.661191</td>\n",
              "      <td>1.229951</td>\n",
              "      <td>0.638143</td>\n",
              "      <td>0.184976</td>\n",
              "      <td>0.292079</td>\n",
              "      <td>0.172449</td>\n",
              "      <td>0.320790</td>\n",
              "      <td>0.166437</td>\n",
              "      <td>0.048245</td>\n",
              "      <td>0.537575</td>\n",
              "      <td>1.036118</td>\n",
              "      <td>0</td>\n",
              "    </tr>\n",
              "    <tr>\n",
              "      <th>1</th>\n",
              "      <td>0.331309</td>\n",
              "      <td>0.403970</td>\n",
              "      <td>0.804980</td>\n",
              "      <td>0.457886</td>\n",
              "      <td>0.118490</td>\n",
              "      <td>0.156526</td>\n",
              "      <td>0.190855</td>\n",
              "      <td>0.380311</td>\n",
              "      <td>0.216327</td>\n",
              "      <td>0.055981</td>\n",
              "      <td>0.501839</td>\n",
              "      <td>0.882251</td>\n",
              "      <td>0</td>\n",
              "    </tr>\n",
              "    <tr>\n",
              "      <th>2</th>\n",
              "      <td>0.695721</td>\n",
              "      <td>0.356682</td>\n",
              "      <td>0.589830</td>\n",
              "      <td>0.370621</td>\n",
              "      <td>0.093518</td>\n",
              "      <td>0.330293</td>\n",
              "      <td>0.169335</td>\n",
              "      <td>0.280022</td>\n",
              "      <td>0.175952</td>\n",
              "      <td>0.044398</td>\n",
              "      <td>0.604720</td>\n",
              "      <td>0.962391</td>\n",
              "      <td>0</td>\n",
              "    </tr>\n",
              "    <tr>\n",
              "      <th>3</th>\n",
              "      <td>0.770948</td>\n",
              "      <td>0.481618</td>\n",
              "      <td>0.811748</td>\n",
              "      <td>0.455343</td>\n",
              "      <td>0.123653</td>\n",
              "      <td>0.291660</td>\n",
              "      <td>0.182203</td>\n",
              "      <td>0.307095</td>\n",
              "      <td>0.172262</td>\n",
              "      <td>0.046780</td>\n",
              "      <td>0.593309</td>\n",
              "      <td>1.057703</td>\n",
              "      <td>0</td>\n",
              "    </tr>\n",
              "    <tr>\n",
              "      <th>4</th>\n",
              "      <td>0.460745</td>\n",
              "      <td>0.454580</td>\n",
              "      <td>0.780062</td>\n",
              "      <td>0.468657</td>\n",
              "      <td>0.124192</td>\n",
              "      <td>0.201354</td>\n",
              "      <td>0.198659</td>\n",
              "      <td>0.340901</td>\n",
              "      <td>0.204812</td>\n",
              "      <td>0.054274</td>\n",
              "      <td>0.582748</td>\n",
              "      <td>0.969962</td>\n",
              "      <td>0</td>\n",
              "    </tr>\n",
              "    <tr>\n",
              "      <th>...</th>\n",
              "      <td>...</td>\n",
              "      <td>...</td>\n",
              "      <td>...</td>\n",
              "      <td>...</td>\n",
              "      <td>...</td>\n",
              "      <td>...</td>\n",
              "      <td>...</td>\n",
              "      <td>...</td>\n",
              "      <td>...</td>\n",
              "      <td>...</td>\n",
              "      <td>...</td>\n",
              "      <td>...</td>\n",
              "      <td>...</td>\n",
              "    </tr>\n",
              "    <tr>\n",
              "      <th>1534</th>\n",
              "      <td>0.460214</td>\n",
              "      <td>0.722615</td>\n",
              "      <td>1.372001</td>\n",
              "      <td>0.687650</td>\n",
              "      <td>0.185466</td>\n",
              "      <td>0.134253</td>\n",
              "      <td>0.210801</td>\n",
              "      <td>0.400240</td>\n",
              "      <td>0.200601</td>\n",
              "      <td>0.054104</td>\n",
              "      <td>0.526687</td>\n",
              "      <td>1.050846</td>\n",
              "      <td>1</td>\n",
              "    </tr>\n",
              "    <tr>\n",
              "      <th>1535</th>\n",
              "      <td>0.461289</td>\n",
              "      <td>0.681099</td>\n",
              "      <td>1.290583</td>\n",
              "      <td>0.619741</td>\n",
              "      <td>0.188710</td>\n",
              "      <td>0.142311</td>\n",
              "      <td>0.210123</td>\n",
              "      <td>0.398153</td>\n",
              "      <td>0.191194</td>\n",
              "      <td>0.058218</td>\n",
              "      <td>0.527745</td>\n",
              "      <td>1.099005</td>\n",
              "      <td>1</td>\n",
              "    </tr>\n",
              "    <tr>\n",
              "      <th>1536</th>\n",
              "      <td>0.306662</td>\n",
              "      <td>0.481251</td>\n",
              "      <td>0.862090</td>\n",
              "      <td>0.415890</td>\n",
              "      <td>0.136616</td>\n",
              "      <td>0.139233</td>\n",
              "      <td>0.218501</td>\n",
              "      <td>0.391413</td>\n",
              "      <td>0.188825</td>\n",
              "      <td>0.062027</td>\n",
              "      <td>0.558238</td>\n",
              "      <td>1.157161</td>\n",
              "      <td>1</td>\n",
              "    </tr>\n",
              "    <tr>\n",
              "      <th>1537</th>\n",
              "      <td>0.592892</td>\n",
              "      <td>0.472343</td>\n",
              "      <td>0.970868</td>\n",
              "      <td>0.459915</td>\n",
              "      <td>0.138298</td>\n",
              "      <td>0.225065</td>\n",
              "      <td>0.179304</td>\n",
              "      <td>0.368547</td>\n",
              "      <td>0.174586</td>\n",
              "      <td>0.052499</td>\n",
              "      <td>0.486516</td>\n",
              "      <td>1.027022</td>\n",
              "      <td>1</td>\n",
              "    </tr>\n",
              "    <tr>\n",
              "      <th>1538</th>\n",
              "      <td>0.706913</td>\n",
              "      <td>0.687435</td>\n",
              "      <td>1.322596</td>\n",
              "      <td>0.740460</td>\n",
              "      <td>0.219723</td>\n",
              "      <td>0.192246</td>\n",
              "      <td>0.186949</td>\n",
              "      <td>0.359682</td>\n",
              "      <td>0.201369</td>\n",
              "      <td>0.059754</td>\n",
              "      <td>0.519762</td>\n",
              "      <td>0.928389</td>\n",
              "      <td>1</td>\n",
              "    </tr>\n",
              "  </tbody>\n",
              "</table>\n",
              "<p>1539 rows × 13 columns</p>\n",
              "</div>"
            ],
            "text/plain": [
              "            C0        C1        C2  ...       c02       c12  class\n",
              "0     1.119869  0.661191  1.229951  ...  0.537575  1.036118      0\n",
              "1     0.331309  0.403970  0.804980  ...  0.501839  0.882251      0\n",
              "2     0.695721  0.356682  0.589830  ...  0.604720  0.962391      0\n",
              "3     0.770948  0.481618  0.811748  ...  0.593309  1.057703      0\n",
              "4     0.460745  0.454580  0.780062  ...  0.582748  0.969962      0\n",
              "...        ...       ...       ...  ...       ...       ...    ...\n",
              "1534  0.460214  0.722615  1.372001  ...  0.526687  1.050846      1\n",
              "1535  0.461289  0.681099  1.290583  ...  0.527745  1.099005      1\n",
              "1536  0.306662  0.481251  0.862090  ...  0.558238  1.157161      1\n",
              "1537  0.592892  0.472343  0.970868  ...  0.486516  1.027022      1\n",
              "1538  0.706913  0.687435  1.322596  ...  0.519762  0.928389      1\n",
              "\n",
              "[1539 rows x 13 columns]"
            ]
          },
          "metadata": {},
          "execution_count": 20
        }
      ]
    },
    {
      "cell_type": "code",
      "metadata": {
        "id": "Pep0JGYJbFhO"
      },
      "source": [
        "data.info()  #presence of object(string)   # null value not needed    # id not needed"
      ],
      "execution_count": null,
      "outputs": []
    },
    {
      "cell_type": "code",
      "metadata": {
        "id": "roBarXf2b2vZ"
      },
      "source": [
        "data.isnull().sum()"
      ],
      "execution_count": null,
      "outputs": []
    },
    {
      "cell_type": "code",
      "metadata": {
        "id": "1r-9AIDhyIsC"
      },
      "source": [
        "X = data.drop(['class'],axis = 'columns')\n",
        "X\n",
        "#X = iris.data[:, :2] "
      ],
      "execution_count": null,
      "outputs": []
    },
    {
      "cell_type": "code",
      "metadata": {
        "id": "c3JD7hf0yxd3"
      },
      "source": [
        "y = data.drop(['C0', 'C1', 'C2', 'C3', 'C4','C01', 'C11', 'C21', 'C31', 'C41','c02','c12'],axis = 'columns')\n",
        "y"
      ],
      "execution_count": null,
      "outputs": []
    },
    {
      "cell_type": "code",
      "metadata": {
        "id": "x_-tqOhozxVM"
      },
      "source": [
        "X = np.array(X)\n",
        "y = np.array(y)"
      ],
      "execution_count": null,
      "outputs": []
    },
    {
      "cell_type": "code",
      "metadata": {
        "id": "LoHlcPRI0Blw"
      },
      "source": [
        "np.random.seed(100)\n",
        "w= np.random.random((12,1))\n",
        "w"
      ],
      "execution_count": null,
      "outputs": []
    },
    {
      "cell_type": "code",
      "metadata": {
        "id": "1ozBqS4Q0eqD"
      },
      "source": [
        "from sklearn.model_selection import train_test_split\n",
        "X_train, X_test, y_train,y_test = train_test_split(X, y, test_size=0.2, random_state=42)"
      ],
      "execution_count": null,
      "outputs": []
    },
    {
      "cell_type": "code",
      "metadata": {
        "colab": {
          "base_uri": "https://localhost:8080/"
        },
        "id": "Yw-HDsli1OUi",
        "outputId": "7fb9cb8f-2c92-4ead-b082-07001337e891"
      },
      "source": [
        "len(X_test)"
      ],
      "execution_count": null,
      "outputs": [
        {
          "output_type": "execute_result",
          "data": {
            "text/plain": [
              "308"
            ]
          },
          "metadata": {},
          "execution_count": 41
        }
      ]
    },
    {
      "cell_type": "code",
      "metadata": {
        "colab": {
          "base_uri": "https://localhost:8080/"
        },
        "id": "m-pUFegK1qTb",
        "outputId": "06d9d2d0-aef1-4529-e627-a2ac0ecbe6c3"
      },
      "source": [
        "X_train.shape[0]"
      ],
      "execution_count": null,
      "outputs": [
        {
          "output_type": "execute_result",
          "data": {
            "text/plain": [
              "1231"
            ]
          },
          "metadata": {},
          "execution_count": 45
        }
      ]
    },
    {
      "cell_type": "code",
      "metadata": {
        "id": "bsTfhkIA186Q"
      },
      "source": [
        "from keras.models import Sequential\n",
        "from keras.layers.core import Dense, Activation, Dropout\n",
        "\n",
        "model = Sequential()\n",
        "model.add(Dense(128, input_dim=12))\n",
        "model.add(Activation('relu'))\n",
        "model.add(Dropout(0.15))\n",
        "model.add(Dense(128))\n",
        "model.add(Activation('relu'))\n",
        "model.add(Dropout(0.5))\n",
        "model.add(Dense(1))\n",
        "model.add(Activation('sigmoid'))"
      ],
      "execution_count": null,
      "outputs": []
    },
    {
      "cell_type": "code",
      "metadata": {
        "id": "2U2epEdA2NcH"
      },
      "source": [
        "import tensorflow as tf\n",
        "model.compile(loss='binary_crossentropy', optimizer=tf.keras.optimizers.RMSprop(learning_rate=0.001,),metrics=['accuracy','mse'])"
      ],
      "execution_count": null,
      "outputs": []
    },
    {
      "cell_type": "code",
      "metadata": {
        "colab": {
          "base_uri": "https://localhost:8080/"
        },
        "id": "Oev0ZKIZ2RBC",
        "outputId": "eed7578c-8826-4f60-cfcd-2847e92eecf6"
      },
      "source": [
        "model.fit(X_train, y_train,epochs=500, verbose=1)"
      ],
      "execution_count": null,
      "outputs": [
        {
          "output_type": "stream",
          "text": [
            "Epoch 1/200\n",
            "39/39 [==============================] - 0s 2ms/step - loss: 0.1782 - accuracy: 0.9326 - mse: 0.0504\n",
            "Epoch 2/200\n",
            "39/39 [==============================] - 0s 2ms/step - loss: 0.1679 - accuracy: 0.9415 - mse: 0.0478\n",
            "Epoch 3/200\n",
            "39/39 [==============================] - 0s 2ms/step - loss: 0.1701 - accuracy: 0.9342 - mse: 0.0482\n",
            "Epoch 4/200\n",
            "39/39 [==============================] - 0s 2ms/step - loss: 0.1733 - accuracy: 0.9326 - mse: 0.0504\n",
            "Epoch 5/200\n",
            "39/39 [==============================] - 0s 2ms/step - loss: 0.1651 - accuracy: 0.9350 - mse: 0.0497\n",
            "Epoch 6/200\n",
            "39/39 [==============================] - 0s 2ms/step - loss: 0.1679 - accuracy: 0.9399 - mse: 0.0481\n",
            "Epoch 7/200\n",
            "39/39 [==============================] - 0s 2ms/step - loss: 0.1852 - accuracy: 0.9334 - mse: 0.0502\n",
            "Epoch 8/200\n",
            "39/39 [==============================] - 0s 2ms/step - loss: 0.1646 - accuracy: 0.9399 - mse: 0.0470\n",
            "Epoch 9/200\n",
            "39/39 [==============================] - 0s 2ms/step - loss: 0.1763 - accuracy: 0.9358 - mse: 0.0516\n",
            "Epoch 10/200\n",
            "39/39 [==============================] - 0s 2ms/step - loss: 0.1673 - accuracy: 0.9407 - mse: 0.0479\n",
            "Epoch 11/200\n",
            "39/39 [==============================] - 0s 2ms/step - loss: 0.1600 - accuracy: 0.9334 - mse: 0.0477\n",
            "Epoch 12/200\n",
            "39/39 [==============================] - 0s 2ms/step - loss: 0.1800 - accuracy: 0.9358 - mse: 0.0521\n",
            "Epoch 13/200\n",
            "39/39 [==============================] - 0s 2ms/step - loss: 0.1527 - accuracy: 0.9391 - mse: 0.0461\n",
            "Epoch 14/200\n",
            "39/39 [==============================] - 0s 2ms/step - loss: 0.1722 - accuracy: 0.9383 - mse: 0.0492\n",
            "Epoch 15/200\n",
            "39/39 [==============================] - 0s 2ms/step - loss: 0.1508 - accuracy: 0.9383 - mse: 0.0447\n",
            "Epoch 16/200\n",
            "39/39 [==============================] - 0s 2ms/step - loss: 0.1455 - accuracy: 0.9439 - mse: 0.0434\n",
            "Epoch 17/200\n",
            "39/39 [==============================] - 0s 2ms/step - loss: 0.1494 - accuracy: 0.9358 - mse: 0.0449\n",
            "Epoch 18/200\n",
            "39/39 [==============================] - 0s 2ms/step - loss: 0.1691 - accuracy: 0.9310 - mse: 0.0509\n",
            "Epoch 19/200\n",
            "39/39 [==============================] - 0s 2ms/step - loss: 0.1885 - accuracy: 0.9293 - mse: 0.0545\n",
            "Epoch 20/200\n",
            "39/39 [==============================] - 0s 2ms/step - loss: 0.1568 - accuracy: 0.9423 - mse: 0.0466\n",
            "Epoch 21/200\n",
            "39/39 [==============================] - 0s 2ms/step - loss: 0.1502 - accuracy: 0.9431 - mse: 0.0437\n",
            "Epoch 22/200\n",
            "39/39 [==============================] - 0s 2ms/step - loss: 0.1753 - accuracy: 0.9366 - mse: 0.0498\n",
            "Epoch 23/200\n",
            "39/39 [==============================] - 0s 2ms/step - loss: 0.1614 - accuracy: 0.9391 - mse: 0.0483\n",
            "Epoch 24/200\n",
            "39/39 [==============================] - 0s 2ms/step - loss: 0.1776 - accuracy: 0.9261 - mse: 0.0536\n",
            "Epoch 25/200\n",
            "39/39 [==============================] - 0s 2ms/step - loss: 0.1529 - accuracy: 0.9488 - mse: 0.0439\n",
            "Epoch 26/200\n",
            "39/39 [==============================] - 0s 2ms/step - loss: 0.1646 - accuracy: 0.9318 - mse: 0.0498\n",
            "Epoch 27/200\n",
            "39/39 [==============================] - 0s 2ms/step - loss: 0.1417 - accuracy: 0.9521 - mse: 0.0404\n",
            "Epoch 28/200\n",
            "39/39 [==============================] - 0s 2ms/step - loss: 0.1645 - accuracy: 0.9383 - mse: 0.0453\n",
            "Epoch 29/200\n",
            "39/39 [==============================] - 0s 2ms/step - loss: 0.1543 - accuracy: 0.9480 - mse: 0.0436\n",
            "Epoch 30/200\n",
            "39/39 [==============================] - 0s 2ms/step - loss: 0.1442 - accuracy: 0.9448 - mse: 0.0431\n",
            "Epoch 31/200\n",
            "39/39 [==============================] - 0s 2ms/step - loss: 0.1455 - accuracy: 0.9448 - mse: 0.0435\n",
            "Epoch 32/200\n",
            "39/39 [==============================] - 0s 2ms/step - loss: 0.1858 - accuracy: 0.9334 - mse: 0.0540\n",
            "Epoch 33/200\n",
            "39/39 [==============================] - 0s 2ms/step - loss: 0.1633 - accuracy: 0.9448 - mse: 0.0484\n",
            "Epoch 34/200\n",
            "39/39 [==============================] - 0s 2ms/step - loss: 0.1769 - accuracy: 0.9301 - mse: 0.0519\n",
            "Epoch 35/200\n",
            "39/39 [==============================] - 0s 2ms/step - loss: 0.1382 - accuracy: 0.9464 - mse: 0.0402\n",
            "Epoch 36/200\n",
            "39/39 [==============================] - 0s 2ms/step - loss: 0.1617 - accuracy: 0.9366 - mse: 0.0465\n",
            "Epoch 37/200\n",
            "39/39 [==============================] - 0s 2ms/step - loss: 0.1667 - accuracy: 0.9464 - mse: 0.0472\n",
            "Epoch 38/200\n",
            "39/39 [==============================] - 0s 2ms/step - loss: 0.1372 - accuracy: 0.9504 - mse: 0.0404\n",
            "Epoch 39/200\n",
            "39/39 [==============================] - 0s 2ms/step - loss: 0.1592 - accuracy: 0.9464 - mse: 0.0445\n",
            "Epoch 40/200\n",
            "39/39 [==============================] - 0s 2ms/step - loss: 0.1604 - accuracy: 0.9374 - mse: 0.0469\n",
            "Epoch 41/200\n",
            "39/39 [==============================] - 0s 2ms/step - loss: 0.1546 - accuracy: 0.9448 - mse: 0.0436\n",
            "Epoch 42/200\n",
            "39/39 [==============================] - 0s 2ms/step - loss: 0.1478 - accuracy: 0.9391 - mse: 0.0441\n",
            "Epoch 43/200\n",
            "39/39 [==============================] - 0s 2ms/step - loss: 0.1403 - accuracy: 0.9464 - mse: 0.0402\n",
            "Epoch 44/200\n",
            "39/39 [==============================] - 0s 2ms/step - loss: 0.1484 - accuracy: 0.9415 - mse: 0.0434\n",
            "Epoch 45/200\n",
            "39/39 [==============================] - 0s 2ms/step - loss: 0.1487 - accuracy: 0.9496 - mse: 0.0431\n",
            "Epoch 46/200\n",
            "39/39 [==============================] - 0s 2ms/step - loss: 0.1449 - accuracy: 0.9513 - mse: 0.0409\n",
            "Epoch 47/200\n",
            "39/39 [==============================] - 0s 2ms/step - loss: 0.1425 - accuracy: 0.9496 - mse: 0.0395\n",
            "Epoch 48/200\n",
            "39/39 [==============================] - 0s 2ms/step - loss: 0.1635 - accuracy: 0.9448 - mse: 0.0459\n",
            "Epoch 49/200\n",
            "39/39 [==============================] - 0s 2ms/step - loss: 0.1315 - accuracy: 0.9529 - mse: 0.0385\n",
            "Epoch 50/200\n",
            "39/39 [==============================] - 0s 2ms/step - loss: 0.1923 - accuracy: 0.9383 - mse: 0.0507\n",
            "Epoch 51/200\n",
            "39/39 [==============================] - 0s 2ms/step - loss: 0.1516 - accuracy: 0.9496 - mse: 0.0421\n",
            "Epoch 52/200\n",
            "39/39 [==============================] - 0s 2ms/step - loss: 0.1487 - accuracy: 0.9488 - mse: 0.0399\n",
            "Epoch 53/200\n",
            "39/39 [==============================] - 0s 2ms/step - loss: 0.1386 - accuracy: 0.9537 - mse: 0.0390\n",
            "Epoch 54/200\n",
            "39/39 [==============================] - 0s 2ms/step - loss: 0.1687 - accuracy: 0.9407 - mse: 0.0464\n",
            "Epoch 55/200\n",
            "39/39 [==============================] - 0s 2ms/step - loss: 0.1291 - accuracy: 0.9561 - mse: 0.0365\n",
            "Epoch 56/200\n",
            "39/39 [==============================] - 0s 2ms/step - loss: 0.1542 - accuracy: 0.9350 - mse: 0.0453\n",
            "Epoch 57/200\n",
            "39/39 [==============================] - 0s 2ms/step - loss: 0.1585 - accuracy: 0.9423 - mse: 0.0462\n",
            "Epoch 58/200\n",
            "39/39 [==============================] - 0s 2ms/step - loss: 0.1502 - accuracy: 0.9456 - mse: 0.0432\n",
            "Epoch 59/200\n",
            "39/39 [==============================] - 0s 2ms/step - loss: 0.1717 - accuracy: 0.9464 - mse: 0.0445\n",
            "Epoch 60/200\n",
            "39/39 [==============================] - 0s 2ms/step - loss: 0.1480 - accuracy: 0.9537 - mse: 0.0392\n",
            "Epoch 61/200\n",
            "39/39 [==============================] - 0s 2ms/step - loss: 0.1417 - accuracy: 0.9529 - mse: 0.0397\n",
            "Epoch 62/200\n",
            "39/39 [==============================] - 0s 2ms/step - loss: 0.1413 - accuracy: 0.9472 - mse: 0.0405\n",
            "Epoch 63/200\n",
            "39/39 [==============================] - 0s 2ms/step - loss: 0.1551 - accuracy: 0.9399 - mse: 0.0457\n",
            "Epoch 64/200\n",
            "39/39 [==============================] - 0s 2ms/step - loss: 0.1473 - accuracy: 0.9513 - mse: 0.0419\n",
            "Epoch 65/200\n",
            "39/39 [==============================] - 0s 2ms/step - loss: 0.1534 - accuracy: 0.9415 - mse: 0.0445\n",
            "Epoch 66/200\n",
            "39/39 [==============================] - 0s 2ms/step - loss: 0.1504 - accuracy: 0.9480 - mse: 0.0418\n",
            "Epoch 67/200\n",
            "39/39 [==============================] - 0s 2ms/step - loss: 0.1629 - accuracy: 0.9488 - mse: 0.0405\n",
            "Epoch 68/200\n",
            "39/39 [==============================] - 0s 2ms/step - loss: 0.1474 - accuracy: 0.9448 - mse: 0.0413\n",
            "Epoch 69/200\n",
            "39/39 [==============================] - 0s 2ms/step - loss: 0.1443 - accuracy: 0.9448 - mse: 0.0418\n",
            "Epoch 70/200\n",
            "39/39 [==============================] - 0s 2ms/step - loss: 0.1418 - accuracy: 0.9464 - mse: 0.0415\n",
            "Epoch 71/200\n",
            "39/39 [==============================] - 0s 2ms/step - loss: 0.1625 - accuracy: 0.9407 - mse: 0.0457\n",
            "Epoch 72/200\n",
            "39/39 [==============================] - 0s 2ms/step - loss: 0.1379 - accuracy: 0.9472 - mse: 0.0404\n",
            "Epoch 73/200\n",
            "39/39 [==============================] - 0s 2ms/step - loss: 0.1547 - accuracy: 0.9529 - mse: 0.0400\n",
            "Epoch 74/200\n",
            "39/39 [==============================] - 0s 2ms/step - loss: 0.1614 - accuracy: 0.9488 - mse: 0.0431\n",
            "Epoch 75/200\n",
            "39/39 [==============================] - 0s 2ms/step - loss: 0.1639 - accuracy: 0.9439 - mse: 0.0443\n",
            "Epoch 76/200\n",
            "39/39 [==============================] - 0s 2ms/step - loss: 0.1341 - accuracy: 0.9545 - mse: 0.0357\n",
            "Epoch 77/200\n",
            "39/39 [==============================] - 0s 2ms/step - loss: 0.1276 - accuracy: 0.9504 - mse: 0.0363\n",
            "Epoch 78/200\n",
            "39/39 [==============================] - 0s 2ms/step - loss: 0.1456 - accuracy: 0.9504 - mse: 0.0410\n",
            "Epoch 79/200\n",
            "39/39 [==============================] - 0s 2ms/step - loss: 0.1357 - accuracy: 0.9521 - mse: 0.0384\n",
            "Epoch 80/200\n",
            "39/39 [==============================] - 0s 2ms/step - loss: 0.1350 - accuracy: 0.9480 - mse: 0.0392\n",
            "Epoch 81/200\n",
            "39/39 [==============================] - 0s 2ms/step - loss: 0.1432 - accuracy: 0.9456 - mse: 0.0410\n",
            "Epoch 82/200\n",
            "39/39 [==============================] - 0s 2ms/step - loss: 0.1428 - accuracy: 0.9407 - mse: 0.0422\n",
            "Epoch 83/200\n",
            "39/39 [==============================] - 0s 2ms/step - loss: 0.1384 - accuracy: 0.9504 - mse: 0.0395\n",
            "Epoch 84/200\n",
            "39/39 [==============================] - 0s 2ms/step - loss: 0.1551 - accuracy: 0.9496 - mse: 0.0409\n",
            "Epoch 85/200\n",
            "39/39 [==============================] - 0s 2ms/step - loss: 0.1473 - accuracy: 0.9545 - mse: 0.0400\n",
            "Epoch 86/200\n",
            "39/39 [==============================] - 0s 2ms/step - loss: 0.1413 - accuracy: 0.9504 - mse: 0.0405\n",
            "Epoch 87/200\n",
            "39/39 [==============================] - 0s 2ms/step - loss: 0.1361 - accuracy: 0.9496 - mse: 0.0390\n",
            "Epoch 88/200\n",
            "39/39 [==============================] - 0s 2ms/step - loss: 0.1507 - accuracy: 0.9504 - mse: 0.0404\n",
            "Epoch 89/200\n",
            "39/39 [==============================] - 0s 2ms/step - loss: 0.1269 - accuracy: 0.9496 - mse: 0.0349\n",
            "Epoch 90/200\n",
            "39/39 [==============================] - 0s 2ms/step - loss: 0.1596 - accuracy: 0.9383 - mse: 0.0466\n",
            "Epoch 91/200\n",
            "39/39 [==============================] - 0s 2ms/step - loss: 0.1375 - accuracy: 0.9496 - mse: 0.0381\n",
            "Epoch 92/200\n",
            "39/39 [==============================] - 0s 2ms/step - loss: 0.1258 - accuracy: 0.9472 - mse: 0.0370\n",
            "Epoch 93/200\n",
            "39/39 [==============================] - 0s 2ms/step - loss: 0.1376 - accuracy: 0.9456 - mse: 0.0401\n",
            "Epoch 94/200\n",
            "39/39 [==============================] - 0s 2ms/step - loss: 0.1379 - accuracy: 0.9472 - mse: 0.0378\n",
            "Epoch 95/200\n",
            "39/39 [==============================] - 0s 2ms/step - loss: 0.1350 - accuracy: 0.9553 - mse: 0.0371\n",
            "Epoch 96/200\n",
            "39/39 [==============================] - 0s 2ms/step - loss: 0.1416 - accuracy: 0.9521 - mse: 0.0397\n",
            "Epoch 97/200\n",
            "39/39 [==============================] - 0s 2ms/step - loss: 0.1266 - accuracy: 0.9529 - mse: 0.0354\n",
            "Epoch 98/200\n",
            "39/39 [==============================] - 0s 2ms/step - loss: 0.1462 - accuracy: 0.9480 - mse: 0.0382\n",
            "Epoch 99/200\n",
            "39/39 [==============================] - 0s 2ms/step - loss: 0.1440 - accuracy: 0.9439 - mse: 0.0406\n",
            "Epoch 100/200\n",
            "39/39 [==============================] - 0s 2ms/step - loss: 0.1273 - accuracy: 0.9464 - mse: 0.0379\n",
            "Epoch 101/200\n",
            "39/39 [==============================] - 0s 2ms/step - loss: 0.1567 - accuracy: 0.9456 - mse: 0.0414\n",
            "Epoch 102/200\n",
            "39/39 [==============================] - 0s 2ms/step - loss: 0.1443 - accuracy: 0.9513 - mse: 0.0402\n",
            "Epoch 103/200\n",
            "39/39 [==============================] - 0s 2ms/step - loss: 0.1516 - accuracy: 0.9594 - mse: 0.0346\n",
            "Epoch 104/200\n",
            "39/39 [==============================] - 0s 2ms/step - loss: 0.1485 - accuracy: 0.9431 - mse: 0.0431\n",
            "Epoch 105/200\n",
            "39/39 [==============================] - 0s 2ms/step - loss: 0.1173 - accuracy: 0.9602 - mse: 0.0336\n",
            "Epoch 106/200\n",
            "39/39 [==============================] - 0s 2ms/step - loss: 0.1398 - accuracy: 0.9480 - mse: 0.0412\n",
            "Epoch 107/200\n",
            "39/39 [==============================] - 0s 2ms/step - loss: 0.1228 - accuracy: 0.9553 - mse: 0.0355\n",
            "Epoch 108/200\n",
            "39/39 [==============================] - 0s 2ms/step - loss: 0.1205 - accuracy: 0.9594 - mse: 0.0340\n",
            "Epoch 109/200\n",
            "39/39 [==============================] - 0s 2ms/step - loss: 0.1201 - accuracy: 0.9643 - mse: 0.0341\n",
            "Epoch 110/200\n",
            "39/39 [==============================] - 0s 2ms/step - loss: 0.1219 - accuracy: 0.9618 - mse: 0.0341\n",
            "Epoch 111/200\n",
            "39/39 [==============================] - 0s 2ms/step - loss: 0.1343 - accuracy: 0.9496 - mse: 0.0394\n",
            "Epoch 112/200\n",
            "39/39 [==============================] - 0s 2ms/step - loss: 0.1324 - accuracy: 0.9521 - mse: 0.0373\n",
            "Epoch 113/200\n",
            "39/39 [==============================] - 0s 2ms/step - loss: 0.1227 - accuracy: 0.9537 - mse: 0.0355\n",
            "Epoch 114/200\n",
            "39/39 [==============================] - 0s 2ms/step - loss: 0.1327 - accuracy: 0.9513 - mse: 0.0375\n",
            "Epoch 115/200\n",
            "39/39 [==============================] - 0s 2ms/step - loss: 0.1266 - accuracy: 0.9553 - mse: 0.0362\n",
            "Epoch 116/200\n",
            "39/39 [==============================] - 0s 2ms/step - loss: 0.1314 - accuracy: 0.9431 - mse: 0.0383\n",
            "Epoch 117/200\n",
            "39/39 [==============================] - 0s 2ms/step - loss: 0.1523 - accuracy: 0.9488 - mse: 0.0408\n",
            "Epoch 118/200\n",
            "39/39 [==============================] - 0s 2ms/step - loss: 0.1387 - accuracy: 0.9456 - mse: 0.0396\n",
            "Epoch 119/200\n",
            "39/39 [==============================] - 0s 2ms/step - loss: 0.1405 - accuracy: 0.9472 - mse: 0.0382\n",
            "Epoch 120/200\n",
            "39/39 [==============================] - 0s 2ms/step - loss: 0.1235 - accuracy: 0.9602 - mse: 0.0305\n",
            "Epoch 121/200\n",
            "39/39 [==============================] - 0s 2ms/step - loss: 0.1247 - accuracy: 0.9594 - mse: 0.0353\n",
            "Epoch 122/200\n",
            "39/39 [==============================] - 0s 2ms/step - loss: 0.1407 - accuracy: 0.9472 - mse: 0.0391\n",
            "Epoch 123/200\n",
            "39/39 [==============================] - 0s 2ms/step - loss: 0.1334 - accuracy: 0.9472 - mse: 0.0374\n",
            "Epoch 124/200\n",
            "39/39 [==============================] - 0s 2ms/step - loss: 0.1454 - accuracy: 0.9472 - mse: 0.0407\n",
            "Epoch 125/200\n",
            "39/39 [==============================] - 0s 2ms/step - loss: 0.1177 - accuracy: 0.9561 - mse: 0.0338\n",
            "Epoch 126/200\n",
            "39/39 [==============================] - 0s 2ms/step - loss: 0.1325 - accuracy: 0.9488 - mse: 0.0389\n",
            "Epoch 127/200\n",
            "39/39 [==============================] - 0s 2ms/step - loss: 0.1196 - accuracy: 0.9569 - mse: 0.0340\n",
            "Epoch 128/200\n",
            "39/39 [==============================] - 0s 2ms/step - loss: 0.1225 - accuracy: 0.9537 - mse: 0.0340\n",
            "Epoch 129/200\n",
            "39/39 [==============================] - 0s 2ms/step - loss: 0.1381 - accuracy: 0.9488 - mse: 0.0398\n",
            "Epoch 130/200\n",
            "39/39 [==============================] - 0s 2ms/step - loss: 0.1219 - accuracy: 0.9578 - mse: 0.0347\n",
            "Epoch 131/200\n",
            "39/39 [==============================] - 0s 2ms/step - loss: 0.1231 - accuracy: 0.9529 - mse: 0.0352\n",
            "Epoch 132/200\n",
            "39/39 [==============================] - 0s 2ms/step - loss: 0.1224 - accuracy: 0.9594 - mse: 0.0340\n",
            "Epoch 133/200\n",
            "39/39 [==============================] - 0s 2ms/step - loss: 0.1419 - accuracy: 0.9504 - mse: 0.0419\n",
            "Epoch 134/200\n",
            "39/39 [==============================] - 0s 2ms/step - loss: 0.1430 - accuracy: 0.9553 - mse: 0.0365\n",
            "Epoch 135/200\n",
            "39/39 [==============================] - 0s 2ms/step - loss: 0.1250 - accuracy: 0.9545 - mse: 0.0346\n",
            "Epoch 136/200\n",
            "39/39 [==============================] - 0s 2ms/step - loss: 0.1068 - accuracy: 0.9545 - mse: 0.0319\n",
            "Epoch 137/200\n",
            "39/39 [==============================] - 0s 2ms/step - loss: 0.1251 - accuracy: 0.9545 - mse: 0.0343\n",
            "Epoch 138/200\n",
            "39/39 [==============================] - 0s 2ms/step - loss: 0.1433 - accuracy: 0.9472 - mse: 0.0399\n",
            "Epoch 139/200\n",
            "39/39 [==============================] - 0s 2ms/step - loss: 0.1167 - accuracy: 0.9602 - mse: 0.0337\n",
            "Epoch 140/200\n",
            "39/39 [==============================] - 0s 2ms/step - loss: 0.1180 - accuracy: 0.9529 - mse: 0.0343\n",
            "Epoch 141/200\n",
            "39/39 [==============================] - 0s 2ms/step - loss: 0.1238 - accuracy: 0.9569 - mse: 0.0334\n",
            "Epoch 142/200\n",
            "39/39 [==============================] - 0s 2ms/step - loss: 0.1424 - accuracy: 0.9464 - mse: 0.0403\n",
            "Epoch 143/200\n",
            "39/39 [==============================] - 0s 2ms/step - loss: 0.1211 - accuracy: 0.9504 - mse: 0.0361\n",
            "Epoch 144/200\n",
            "39/39 [==============================] - 0s 2ms/step - loss: 0.1072 - accuracy: 0.9610 - mse: 0.0310\n",
            "Epoch 145/200\n",
            "39/39 [==============================] - 0s 2ms/step - loss: 0.1426 - accuracy: 0.9504 - mse: 0.0383\n",
            "Epoch 146/200\n",
            "39/39 [==============================] - 0s 2ms/step - loss: 0.1224 - accuracy: 0.9431 - mse: 0.0362\n",
            "Epoch 147/200\n",
            "39/39 [==============================] - 0s 2ms/step - loss: 0.1163 - accuracy: 0.9569 - mse: 0.0330\n",
            "Epoch 148/200\n",
            "39/39 [==============================] - 0s 2ms/step - loss: 0.1192 - accuracy: 0.9561 - mse: 0.0334\n",
            "Epoch 149/200\n",
            "39/39 [==============================] - 0s 2ms/step - loss: 0.1300 - accuracy: 0.9513 - mse: 0.0382\n",
            "Epoch 150/200\n",
            "39/39 [==============================] - 0s 2ms/step - loss: 0.1183 - accuracy: 0.9626 - mse: 0.0320\n",
            "Epoch 151/200\n",
            "39/39 [==============================] - 0s 2ms/step - loss: 0.1248 - accuracy: 0.9513 - mse: 0.0345\n",
            "Epoch 152/200\n",
            "39/39 [==============================] - 0s 2ms/step - loss: 0.1273 - accuracy: 0.9496 - mse: 0.0367\n",
            "Epoch 153/200\n",
            "39/39 [==============================] - 0s 2ms/step - loss: 0.1249 - accuracy: 0.9545 - mse: 0.0350\n",
            "Epoch 154/200\n",
            "39/39 [==============================] - 0s 2ms/step - loss: 0.1241 - accuracy: 0.9618 - mse: 0.0332\n",
            "Epoch 155/200\n",
            "39/39 [==============================] - 0s 2ms/step - loss: 0.1034 - accuracy: 0.9610 - mse: 0.0307\n",
            "Epoch 156/200\n",
            "39/39 [==============================] - 0s 2ms/step - loss: 0.1205 - accuracy: 0.9537 - mse: 0.0344\n",
            "Epoch 157/200\n",
            "39/39 [==============================] - 0s 2ms/step - loss: 0.1372 - accuracy: 0.9561 - mse: 0.0348\n",
            "Epoch 158/200\n",
            "39/39 [==============================] - 0s 2ms/step - loss: 0.1453 - accuracy: 0.9496 - mse: 0.0396\n",
            "Epoch 159/200\n",
            "39/39 [==============================] - 0s 2ms/step - loss: 0.1419 - accuracy: 0.9529 - mse: 0.0377\n",
            "Epoch 160/200\n",
            "39/39 [==============================] - 0s 2ms/step - loss: 0.1314 - accuracy: 0.9504 - mse: 0.0361\n",
            "Epoch 161/200\n",
            "39/39 [==============================] - 0s 2ms/step - loss: 0.1088 - accuracy: 0.9610 - mse: 0.0302\n",
            "Epoch 162/200\n",
            "39/39 [==============================] - 0s 2ms/step - loss: 0.1231 - accuracy: 0.9504 - mse: 0.0368\n",
            "Epoch 163/200\n",
            "39/39 [==============================] - 0s 2ms/step - loss: 0.1304 - accuracy: 0.9594 - mse: 0.0346\n",
            "Epoch 164/200\n",
            "39/39 [==============================] - 0s 2ms/step - loss: 0.1127 - accuracy: 0.9626 - mse: 0.0313\n",
            "Epoch 165/200\n",
            "39/39 [==============================] - 0s 2ms/step - loss: 0.1224 - accuracy: 0.9553 - mse: 0.0345\n",
            "Epoch 166/200\n",
            "39/39 [==============================] - 0s 2ms/step - loss: 0.1101 - accuracy: 0.9602 - mse: 0.0302\n",
            "Epoch 167/200\n",
            "39/39 [==============================] - 0s 2ms/step - loss: 0.1140 - accuracy: 0.9545 - mse: 0.0324\n",
            "Epoch 168/200\n",
            "39/39 [==============================] - 0s 2ms/step - loss: 0.1204 - accuracy: 0.9578 - mse: 0.0326\n",
            "Epoch 169/200\n",
            "39/39 [==============================] - 0s 2ms/step - loss: 0.1066 - accuracy: 0.9594 - mse: 0.0302\n",
            "Epoch 170/200\n",
            "39/39 [==============================] - 0s 2ms/step - loss: 0.1364 - accuracy: 0.9513 - mse: 0.0374\n",
            "Epoch 171/200\n",
            "39/39 [==============================] - 0s 2ms/step - loss: 0.1200 - accuracy: 0.9537 - mse: 0.0350\n",
            "Epoch 172/200\n",
            "39/39 [==============================] - 0s 2ms/step - loss: 0.1085 - accuracy: 0.9634 - mse: 0.0305\n",
            "Epoch 173/200\n",
            "39/39 [==============================] - 0s 2ms/step - loss: 0.1521 - accuracy: 0.9529 - mse: 0.0382\n",
            "Epoch 174/200\n",
            "39/39 [==============================] - 0s 2ms/step - loss: 0.1031 - accuracy: 0.9651 - mse: 0.0271\n",
            "Epoch 175/200\n",
            "39/39 [==============================] - 0s 2ms/step - loss: 0.1240 - accuracy: 0.9578 - mse: 0.0346\n",
            "Epoch 176/200\n",
            "39/39 [==============================] - 0s 2ms/step - loss: 0.1189 - accuracy: 0.9569 - mse: 0.0333\n",
            "Epoch 177/200\n",
            "39/39 [==============================] - 0s 2ms/step - loss: 0.1068 - accuracy: 0.9651 - mse: 0.0292\n",
            "Epoch 178/200\n",
            "39/39 [==============================] - 0s 2ms/step - loss: 0.1053 - accuracy: 0.9634 - mse: 0.0269\n",
            "Epoch 179/200\n",
            "39/39 [==============================] - 0s 2ms/step - loss: 0.1139 - accuracy: 0.9578 - mse: 0.0327\n",
            "Epoch 180/200\n",
            "39/39 [==============================] - 0s 2ms/step - loss: 0.1376 - accuracy: 0.9553 - mse: 0.0355\n",
            "Epoch 181/200\n",
            "39/39 [==============================] - 0s 2ms/step - loss: 0.1101 - accuracy: 0.9626 - mse: 0.0317\n",
            "Epoch 182/200\n",
            "39/39 [==============================] - 0s 2ms/step - loss: 0.1208 - accuracy: 0.9602 - mse: 0.0306\n",
            "Epoch 183/200\n",
            "39/39 [==============================] - 0s 2ms/step - loss: 0.1288 - accuracy: 0.9545 - mse: 0.0346\n",
            "Epoch 184/200\n",
            "39/39 [==============================] - 0s 2ms/step - loss: 0.1089 - accuracy: 0.9618 - mse: 0.0293\n",
            "Epoch 185/200\n",
            "39/39 [==============================] - 0s 2ms/step - loss: 0.1213 - accuracy: 0.9569 - mse: 0.0348\n",
            "Epoch 186/200\n",
            "39/39 [==============================] - 0s 2ms/step - loss: 0.1178 - accuracy: 0.9569 - mse: 0.0318\n",
            "Epoch 187/200\n",
            "39/39 [==============================] - 0s 2ms/step - loss: 0.1439 - accuracy: 0.9521 - mse: 0.0397\n",
            "Epoch 188/200\n",
            "39/39 [==============================] - 0s 2ms/step - loss: 0.1172 - accuracy: 0.9634 - mse: 0.0317\n",
            "Epoch 189/200\n",
            "39/39 [==============================] - 0s 2ms/step - loss: 0.1157 - accuracy: 0.9586 - mse: 0.0320\n",
            "Epoch 190/200\n",
            "39/39 [==============================] - 0s 2ms/step - loss: 0.1468 - accuracy: 0.9504 - mse: 0.0379\n",
            "Epoch 191/200\n",
            "39/39 [==============================] - 0s 2ms/step - loss: 0.1091 - accuracy: 0.9602 - mse: 0.0306\n",
            "Epoch 192/200\n",
            "39/39 [==============================] - 0s 2ms/step - loss: 0.1108 - accuracy: 0.9610 - mse: 0.0321\n",
            "Epoch 193/200\n",
            "39/39 [==============================] - 0s 2ms/step - loss: 0.1287 - accuracy: 0.9537 - mse: 0.0339\n",
            "Epoch 194/200\n",
            "39/39 [==============================] - 0s 2ms/step - loss: 0.1078 - accuracy: 0.9569 - mse: 0.0313\n",
            "Epoch 195/200\n",
            "39/39 [==============================] - 0s 2ms/step - loss: 0.1497 - accuracy: 0.9521 - mse: 0.0399\n",
            "Epoch 196/200\n",
            "39/39 [==============================] - 0s 2ms/step - loss: 0.1237 - accuracy: 0.9578 - mse: 0.0329\n",
            "Epoch 197/200\n",
            "39/39 [==============================] - 0s 2ms/step - loss: 0.1206 - accuracy: 0.9561 - mse: 0.0344\n",
            "Epoch 198/200\n",
            "39/39 [==============================] - 0s 2ms/step - loss: 0.1014 - accuracy: 0.9651 - mse: 0.0272\n",
            "Epoch 199/200\n",
            "39/39 [==============================] - 0s 2ms/step - loss: 0.1218 - accuracy: 0.9545 - mse: 0.0337\n",
            "Epoch 200/200\n",
            "39/39 [==============================] - 0s 2ms/step - loss: 0.1099 - accuracy: 0.9610 - mse: 0.0302\n"
          ],
          "name": "stdout"
        },
        {
          "output_type": "execute_result",
          "data": {
            "text/plain": [
              "<keras.callbacks.History at 0x7f547c1b2cd0>"
            ]
          },
          "metadata": {},
          "execution_count": 77
        }
      ]
    },
    {
      "cell_type": "code",
      "metadata": {
        "id": "jK0aPaG13WAb"
      },
      "source": [
        "preds = model.predict(X_test)\n",
        "y_pred = [1 if i>=0.5 else 0 for i in preds]"
      ],
      "execution_count": null,
      "outputs": []
    },
    {
      "cell_type": "code",
      "metadata": {
        "id": "VCiCsHf93w3a"
      },
      "source": [
        "y_pred"
      ],
      "execution_count": null,
      "outputs": []
    },
    {
      "cell_type": "code",
      "metadata": {
        "colab": {
          "base_uri": "https://localhost:8080/"
        },
        "id": "ZjnySVIF3gvN",
        "outputId": "df994295-de2e-4eb8-9357-43d0db762073"
      },
      "source": [
        "from sklearn.metrics import confusion_matrix as cm\n",
        "cm = cm(y_test,y_pred)\n",
        "cm"
      ],
      "execution_count": null,
      "outputs": [
        {
          "output_type": "execute_result",
          "data": {
            "text/plain": [
              "array([[152,   0],\n",
              "       [ 13, 143]])"
            ]
          },
          "metadata": {},
          "execution_count": 80
        }
      ]
    },
    {
      "cell_type": "markdown",
      "metadata": {
        "id": "PUYDYGbQLXg0"
      },
      "source": [
        "##SVM"
      ]
    },
    {
      "cell_type": "code",
      "metadata": {
        "id": "mCnI3LKI-uKM",
        "colab": {
          "base_uri": "https://localhost:8080/",
          "height": 305
        },
        "outputId": "85355b6a-1516-4ed6-b028-afc53d06bc99"
      },
      "source": [
        "import matplotlib as mpl\n",
        "import matplotlib.pyplot as plt\n",
        "import cv2\n",
        "from google.colab.patches import cv2_imshow\n",
        "plt.figure(figsize=(9,4))  #width , heigth\n",
        "plt.xlabel(\"none\",fontsize= 14)\n",
        "plt.ylabel(\"done\",fontsize= 14)\n",
        "plt.scatter (data['C0'],data['C1'],color = 'red', marker = '*')\n",
        "plt.scatter (data['C2'],data['C3'],color = 'blue', marker = '*')\n",
        "plt.savefig(\"graph.png\")  #to save the file \n",
        "I = cv2.imread('/content/graph.png')\n",
        "cv2_imshow(I)"
      ],
      "execution_count": null,
      "outputs": [
        {
          "output_type": "display_data",
          "data": {
            "image/png": "[encoded data removed]",
            "text/plain": [
              "<PIL.Image.Image image mode=RGB size=648x288 at 0x7F546EBB9050>"
            ]
          },
          "metadata": {}
        }
      ]
    },
    {
      "cell_type": "code",
      "metadata": {
        "id": "filjmtEkCFJ-"
      },
      "source": [
        "X = data.iloc[:,:12] \n",
        "\n",
        "y = data.iloc[:,12] "
      ],
      "execution_count": null,
      "outputs": []
    },
    {
      "cell_type": "code",
      "metadata": {
        "id": "0FY7_9vlHIH5"
      },
      "source": [
        "X_train, X_test, y_train,y_test = train_test_split(X, y, test_size=0.2, random_state=42)"
      ],
      "execution_count": null,
      "outputs": []
    },
    {
      "cell_type": "code",
      "metadata": {
        "id": "RbhN9LuQHKR7",
        "colab": {
          "base_uri": "https://localhost:8080/"
        },
        "outputId": "15ee8d5f-49cb-4e27-a2fe-0c2c07022715"
      },
      "source": [
        "from sklearn import svm\n",
        "clf = svm.SVC(kernel='linear',tol=0.00001, gamma=100,verbose=2)\n",
        "clf.fit(X_train, y_train)"
      ],
      "execution_count": null,
      "outputs": [
        {
          "output_type": "stream",
          "text": [
            "[LibSVM]"
          ],
          "name": "stdout"
        },
        {
          "output_type": "execute_result",
          "data": {
            "text/plain": [
              "SVC(C=1.0, break_ties=False, cache_size=200, class_weight=None, coef0=0.0,\n",
              "    decision_function_shape='ovr', degree=3, gamma=100, kernel='linear',\n",
              "    max_iter=-1, probability=False, random_state=None, shrinking=True,\n",
              "    tol=1e-05, verbose=2)"
            ]
          },
          "metadata": {},
          "execution_count": 135
        }
      ]
    },
    {
      "cell_type": "code",
      "metadata": {
        "id": "aS0fgIZuH7f_",
        "colab": {
          "base_uri": "https://localhost:8080/"
        },
        "outputId": "e7f857c9-9af9-4073-d96f-0cb367f61ce3"
      },
      "source": [
        "y_pred = clf.predict(X_test)\n",
        "y_pred"
      ],
      "execution_count": null,
      "outputs": [
        {
          "output_type": "execute_result",
          "data": {
            "text/plain": [
              "array([1, 1, 0, 0, 1, 0, 1, 0, 1, 0, 1, 0, 1, 1, 1, 1, 1, 0, 0, 0, 0, 1,\n",
              "       1, 0, 1, 1, 0, 0, 0, 1, 0, 1, 1, 1, 1, 1, 1, 0, 1, 0, 0, 1, 0, 1,\n",
              "       1, 1, 0, 1, 1, 0, 1, 0, 1, 0, 0, 0, 0, 0, 1, 1, 0, 1, 1, 1, 0, 1,\n",
              "       1, 1, 0, 0, 0, 0, 1, 0, 0, 0, 1, 0, 1, 1, 1, 0, 1, 0, 0, 0, 0, 1,\n",
              "       1, 0, 0, 1, 0, 1, 0, 0, 1, 0, 1, 1, 1, 1, 0, 1, 1, 1, 0, 1, 0, 0,\n",
              "       1, 0, 0, 1, 1, 1, 0, 1, 1, 1, 1, 0, 0, 1, 0, 0, 1, 0, 1, 0, 0, 1,\n",
              "       1, 1, 1, 1, 0, 1, 1, 0, 1, 0, 1, 0, 1, 0, 0, 1, 0, 0, 0, 0, 1, 1,\n",
              "       0, 0, 0, 1, 1, 0, 0, 1, 1, 1, 0, 0, 0, 0, 1, 0, 1, 0, 1, 1, 1, 1,\n",
              "       0, 1, 1, 0, 0, 1, 0, 0, 1, 1, 1, 0, 1, 0, 1, 1, 1, 1, 0, 1, 0, 1,\n",
              "       1, 0, 1, 1, 1, 0, 1, 1, 1, 0, 1, 1, 1, 0, 0, 1, 0, 0, 0, 1, 1, 1,\n",
              "       1, 1, 1, 1, 0, 1, 0, 1, 0, 0, 0, 1, 1, 0, 0, 0, 0, 1, 1, 0, 0, 1,\n",
              "       1, 0, 1, 0, 1, 0, 0, 1, 1, 1, 0, 1, 0, 0, 0, 0, 0, 1, 1, 1, 0, 1,\n",
              "       1, 1, 0, 1, 1, 1, 0, 1, 1, 0, 0, 0, 0, 0, 0, 1, 0, 0, 0, 0, 1, 1,\n",
              "       0, 0, 0, 1, 1, 0, 0, 1, 1, 0, 1, 1, 0, 1, 0, 1, 0, 1, 1, 1, 1, 0])"
            ]
          },
          "metadata": {},
          "execution_count": 136
        }
      ]
    },
    {
      "cell_type": "code",
      "metadata": {
        "id": "dtbDZUkIJOKs",
        "colab": {
          "base_uri": "https://localhost:8080/"
        },
        "outputId": "5a40bb1b-0087-48cc-dd80-5583e5c82661"
      },
      "source": [
        "from sklearn import metrics\n",
        "\n",
        "print(\"Accuracy:\",metrics.accuracy_score(y_test, y_pred))\n"
      ],
      "execution_count": null,
      "outputs": [
        {
          "output_type": "stream",
          "text": [
            "Accuracy: 0.7077922077922078\n"
          ],
          "name": "stdout"
        }
      ]
    },
    {
      "cell_type": "code",
      "metadata": {
        "id": "ScPASyS7IGQh",
        "colab": {
          "base_uri": "https://localhost:8080/"
        },
        "outputId": "40640002-9c5e-42a5-fe4f-3d1e58839e33"
      },
      "source": [
        "from sklearn.metrics import classification_report\n",
        "print(classification_report(y_test,y_pred))"
      ],
      "execution_count": null,
      "outputs": [
        {
          "output_type": "stream",
          "text": [
            "              precision    recall  f1-score   support\n",
            "\n",
            "           0       0.72      0.68      0.70       152\n",
            "           1       0.70      0.74      0.72       156\n",
            "\n",
            "    accuracy                           0.71       308\n",
            "   macro avg       0.71      0.71      0.71       308\n",
            "weighted avg       0.71      0.71      0.71       308\n",
            "\n"
          ],
          "name": "stdout"
        }
      ]
    },
    {
      "cell_type": "code",
      "metadata": {
        "id": "dJyhu-0eKiMT",
        "colab": {
          "base_uri": "https://localhost:8080/"
        },
        "outputId": "18617f3d-e609-4af2-b990-67f8535c3673"
      },
      "source": [
        "from sklearn.metrics import confusion_matrix\n",
        "confusion_matrix(y_test,y_pred)"
      ],
      "execution_count": null,
      "outputs": [
        {
          "output_type": "execute_result",
          "data": {
            "text/plain": [
              "array([[103,  49],\n",
              "       [ 41, 115]])"
            ]
          },
          "metadata": {},
          "execution_count": 143
        }
      ]
    }
  ]
}